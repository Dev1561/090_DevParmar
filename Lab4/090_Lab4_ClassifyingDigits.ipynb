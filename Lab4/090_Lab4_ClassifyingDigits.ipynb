{
  "nbformat": 4,
  "nbformat_minor": 0,
  "metadata": {
    "colab": {
      "name": "090_Lab4_ClassifyingDigits.ipynb",
      "provenance": [],
      "collapsed_sections": [],
      "authorship_tag": "ABX9TyPjghEfl6wr2xs8MeE+C63y",
      "include_colab_link": true
    },
    "kernelspec": {
      "name": "python3",
      "display_name": "Python 3"
    },
    "language_info": {
      "name": "python"
    }
  },
  "cells": [
    {
      "cell_type": "markdown",
      "metadata": {
        "id": "view-in-github",
        "colab_type": "text"
      },
      "source": [
        "<a href=\"https://colab.research.google.com/github/Dev1561/090_DevParmar/blob/main/Lab4/090_Lab4_ClassifyingDigits.ipynb\" target=\"_parent\"><img src=\"https://colab.research.google.com/assets/colab-badge.svg\" alt=\"Open In Colab\"/></a>"
      ]
    },
    {
      "cell_type": "markdown",
      "metadata": {
        "id": "RMFFhxRvT7sU"
      },
      "source": [
        "\n",
        "Task 2: Apply algorithm on digits dataset - LabelEncoding of features: and Train test Division 80%-20%\n",
        "\n",
        "---\n",
        "\n"
      ]
    },
    {
      "cell_type": "code",
      "metadata": {
        "colab": {
          "base_uri": "https://localhost:8080/"
        },
        "id": "PluKfX-yT4H0",
        "outputId": "b5cef134-aa70-45ad-f048-3476e14ec55b"
      },
      "source": [
        "from sklearn import datasets\n",
        "from sklearn.tree import DecisionTreeClassifier\n",
        "import pandas as pd\n",
        "import numpy as np\n",
        "\n",
        "#loading dataset\n",
        "digits = datasets.load_digits()\n",
        "print(digits)"
      ],
      "execution_count": 2,
      "outputs": [
        {
          "output_type": "stream",
          "name": "stdout",
          "text": [
            "{'data': array([[ 0.,  0.,  5., ...,  0.,  0.,  0.],\n",
            "       [ 0.,  0.,  0., ..., 10.,  0.,  0.],\n",
            "       [ 0.,  0.,  0., ..., 16.,  9.,  0.],\n",
            "       ...,\n",
            "       [ 0.,  0.,  1., ...,  6.,  0.,  0.],\n",
            "       [ 0.,  0.,  2., ..., 12.,  0.,  0.],\n",
            "       [ 0.,  0., 10., ..., 12.,  1.,  0.]]), 'target': array([0, 1, 2, ..., 8, 9, 8]), 'target_names': array([0, 1, 2, 3, 4, 5, 6, 7, 8, 9]), 'images': array([[[ 0.,  0.,  5., ...,  1.,  0.,  0.],\n",
            "        [ 0.,  0., 13., ..., 15.,  5.,  0.],\n",
            "        [ 0.,  3., 15., ..., 11.,  8.,  0.],\n",
            "        ...,\n",
            "        [ 0.,  4., 11., ..., 12.,  7.,  0.],\n",
            "        [ 0.,  2., 14., ..., 12.,  0.,  0.],\n",
            "        [ 0.,  0.,  6., ...,  0.,  0.,  0.]],\n",
            "\n",
            "       [[ 0.,  0.,  0., ...,  5.,  0.,  0.],\n",
            "        [ 0.,  0.,  0., ...,  9.,  0.,  0.],\n",
            "        [ 0.,  0.,  3., ...,  6.,  0.,  0.],\n",
            "        ...,\n",
            "        [ 0.,  0.,  1., ...,  6.,  0.,  0.],\n",
            "        [ 0.,  0.,  1., ...,  6.,  0.,  0.],\n",
            "        [ 0.,  0.,  0., ..., 10.,  0.,  0.]],\n",
            "\n",
            "       [[ 0.,  0.,  0., ..., 12.,  0.,  0.],\n",
            "        [ 0.,  0.,  3., ..., 14.,  0.,  0.],\n",
            "        [ 0.,  0.,  8., ..., 16.,  0.,  0.],\n",
            "        ...,\n",
            "        [ 0.,  9., 16., ...,  0.,  0.,  0.],\n",
            "        [ 0.,  3., 13., ..., 11.,  5.,  0.],\n",
            "        [ 0.,  0.,  0., ..., 16.,  9.,  0.]],\n",
            "\n",
            "       ...,\n",
            "\n",
            "       [[ 0.,  0.,  1., ...,  1.,  0.,  0.],\n",
            "        [ 0.,  0., 13., ...,  2.,  1.,  0.],\n",
            "        [ 0.,  0., 16., ..., 16.,  5.,  0.],\n",
            "        ...,\n",
            "        [ 0.,  0., 16., ..., 15.,  0.,  0.],\n",
            "        [ 0.,  0., 15., ..., 16.,  0.,  0.],\n",
            "        [ 0.,  0.,  2., ...,  6.,  0.,  0.]],\n",
            "\n",
            "       [[ 0.,  0.,  2., ...,  0.,  0.,  0.],\n",
            "        [ 0.,  0., 14., ..., 15.,  1.,  0.],\n",
            "        [ 0.,  4., 16., ..., 16.,  7.,  0.],\n",
            "        ...,\n",
            "        [ 0.,  0.,  0., ..., 16.,  2.,  0.],\n",
            "        [ 0.,  0.,  4., ..., 16.,  2.,  0.],\n",
            "        [ 0.,  0.,  5., ..., 12.,  0.,  0.]],\n",
            "\n",
            "       [[ 0.,  0., 10., ...,  1.,  0.,  0.],\n",
            "        [ 0.,  2., 16., ...,  1.,  0.,  0.],\n",
            "        [ 0.,  0., 15., ..., 15.,  0.,  0.],\n",
            "        ...,\n",
            "        [ 0.,  4., 16., ..., 16.,  6.,  0.],\n",
            "        [ 0.,  8., 16., ..., 16.,  8.,  0.],\n",
            "        [ 0.,  1.,  8., ..., 12.,  1.,  0.]]]), 'DESCR': \".. _digits_dataset:\\n\\nOptical recognition of handwritten digits dataset\\n--------------------------------------------------\\n\\n**Data Set Characteristics:**\\n\\n    :Number of Instances: 5620\\n    :Number of Attributes: 64\\n    :Attribute Information: 8x8 image of integer pixels in the range 0..16.\\n    :Missing Attribute Values: None\\n    :Creator: E. Alpaydin (alpaydin '@' boun.edu.tr)\\n    :Date: July; 1998\\n\\nThis is a copy of the test set of the UCI ML hand-written digits datasets\\nhttps://archive.ics.uci.edu/ml/datasets/Optical+Recognition+of+Handwritten+Digits\\n\\nThe data set contains images of hand-written digits: 10 classes where\\neach class refers to a digit.\\n\\nPreprocessing programs made available by NIST were used to extract\\nnormalized bitmaps of handwritten digits from a preprinted form. From a\\ntotal of 43 people, 30 contributed to the training set and different 13\\nto the test set. 32x32 bitmaps are divided into nonoverlapping blocks of\\n4x4 and the number of on pixels are counted in each block. This generates\\nan input matrix of 8x8 where each element is an integer in the range\\n0..16. This reduces dimensionality and gives invariance to small\\ndistortions.\\n\\nFor info on NIST preprocessing routines, see M. D. Garris, J. L. Blue, G.\\nT. Candela, D. L. Dimmick, J. Geist, P. J. Grother, S. A. Janet, and C.\\nL. Wilson, NIST Form-Based Handprint Recognition System, NISTIR 5469,\\n1994.\\n\\n.. topic:: References\\n\\n  - C. Kaynak (1995) Methods of Combining Multiple Classifiers and Their\\n    Applications to Handwritten Digit Recognition, MSc Thesis, Institute of\\n    Graduate Studies in Science and Engineering, Bogazici University.\\n  - E. Alpaydin, C. Kaynak (1998) Cascading Classifiers, Kybernetika.\\n  - Ken Tang and Ponnuthurai N. Suganthan and Xi Yao and A. Kai Qin.\\n    Linear dimensionalityreduction using relevance weighted LDA. School of\\n    Electrical and Electronic Engineering Nanyang Technological University.\\n    2005.\\n  - Claudio Gentile. A New Approximate Maximal Margin Classification\\n    Algorithm. NIPS. 2000.\"}\n"
          ]
        }
      ]
    },
    {
      "cell_type": "code",
      "metadata": {
        "colab": {
          "base_uri": "https://localhost:8080/"
        },
        "id": "pi3Lep94UXDW",
        "outputId": "1903e049-8f4f-4be5-bdd1-7320b1a0d0df"
      },
      "source": [
        "print(digits.data.shape)\n",
        "print(digits.target.shape)"
      ],
      "execution_count": 3,
      "outputs": [
        {
          "output_type": "stream",
          "name": "stdout",
          "text": [
            "(1797, 64)\n",
            "(1797,)\n"
          ]
        }
      ]
    },
    {
      "cell_type": "code",
      "metadata": {
        "colab": {
          "base_uri": "https://localhost:8080/"
        },
        "id": "FKo9ecWnUebv",
        "outputId": "4e9d05f6-66a6-4ea6-9b9f-2971daec508b"
      },
      "source": [
        "from sklearn.model_selection import train_test_split\n",
        "\n",
        "x = digits.data\n",
        "y = digits.target\n",
        "\n",
        "#splitting data into train and test sets\n",
        "x_train, x_test, y_train, y_test = train_test_split(x, y, test_size = 0.20, random_state = 90)\n",
        "\n",
        "#creating a decision tree classifier using gini\n",
        "classifier = DecisionTreeClassifier(criterion = 'gini', random_state = 90, max_depth = 7, min_samples_leaf = 26)\n",
        "classifier.fit(x_train, y_train)\n",
        "\n",
        "#predicting classes of test data\n",
        "y_pred = classifier.predict(x_test)\n",
        "print('Predicted values  :  \\n')\n",
        "print(y_pred)"
      ],
      "execution_count": 4,
      "outputs": [
        {
          "output_type": "stream",
          "name": "stdout",
          "text": [
            "Predicted values  :  \n",
            "\n",
            "[2 1 5 3 1 1 4 7 3 7 4 0 9 4 7 8 9 1 7 0 2 8 0 4 4 0 4 9 9 6 0 8 2 4 8 4 9\n",
            " 7 5 0 5 9 1 9 7 1 9 1 0 9 7 1 2 0 2 2 8 4 1 6 8 8 1 4 6 7 0 0 1 9 3 2 2 6\n",
            " 0 9 7 7 5 0 6 2 8 1 1 1 1 1 8 5 8 1 9 2 1 0 1 8 1 7 6 8 9 9 5 6 9 0 3 9 9\n",
            " 7 8 7 0 0 0 8 5 0 7 6 6 3 3 4 4 1 2 5 8 6 9 8 5 8 5 6 5 3 4 6 5 7 1 6 4 1\n",
            " 0 1 0 6 7 4 4 5 5 9 5 1 0 7 1 5 6 0 1 6 1 4 4 9 7 6 6 3 5 6 7 8 8 5 5 0 1\n",
            " 0 2 8 1 4 3 7 4 4 4 8 3 9 6 0 8 1 9 4 9 6 2 2 1 4 2 8 1 8 1 4 3 2 5 6 6 8\n",
            " 8 6 2 4 0 4 8 4 5 5 1 6 5 0 8 3 3 6 4 7 0 2 1 9 8 4 1 7 6 2 7 6 6 4 7 0 8\n",
            " 5 7 8 8 0 1 7 9 0 3 7 4 1 7 7 7 1 2 6 0 7 5 4 3 5 2 0 1 1 3 2 1 1 6 6 4 7\n",
            " 9 2 8 1 3 7 5 3 6 7 2 1 5 1 9 5 8 1 5 1 1 2 6 5 9 1 2 6 1 7 6 9 4 5 1 3 6\n",
            " 5 4 6 1 8 3 2 8 4 7 4 1 9 7 2 8 3 5 7 8 1 9 6 6 1 0 4]\n"
          ]
        }
      ]
    },
    {
      "cell_type": "code",
      "metadata": {
        "colab": {
          "base_uri": "https://localhost:8080/"
        },
        "id": "OAD8ac5LVSQw",
        "outputId": "98d97b86-a745-4ccf-be61-ea1fa9773bb9"
      },
      "source": [
        "#model accuracy\n",
        "from sklearn import metrics\n",
        "print('Confusion Matrix :  \\n', metrics.confusion_matrix(y_test, y_pred))\n",
        "print('\\nAccuracy :  ', metrics.accuracy_score(y_test, y_pred))\n",
        "print('\\nReport :  ', metrics.classification_report(y_test, y_pred))"
      ],
      "execution_count": 5,
      "outputs": [
        {
          "output_type": "stream",
          "name": "stdout",
          "text": [
            "Confusion Matrix :  \n",
            " [[33  1  0  0  0  0  0  1  0  1]\n",
            " [ 0 34  1  0  4  0  0  0  3  0]\n",
            " [ 0  3 20  1  1  0  3  4  1  0]\n",
            " [ 0  2  4 18  0  0  0  1  2  2]\n",
            " [ 0  5  0  0 30  1  0  3  0  0]\n",
            " [ 0  1  1  1  2 30  0  0  0  1]\n",
            " [ 1  4  0  0  1  0 37  0  1  0]\n",
            " [ 0  2  0  0  1  0  0 27  4  0]\n",
            " [ 0  2  0  0  0  0  0  0 26  0]\n",
            " [ 0  3  2  1  0  3  0  2  1 27]]\n",
            "\n",
            "Accuracy :   0.7833333333333333\n",
            "\n",
            "Report :                 precision    recall  f1-score   support\n",
            "\n",
            "           0       0.97      0.92      0.94        36\n",
            "           1       0.60      0.81      0.69        42\n",
            "           2       0.71      0.61      0.66        33\n",
            "           3       0.86      0.62      0.72        29\n",
            "           4       0.77      0.77      0.77        39\n",
            "           5       0.88      0.83      0.86        36\n",
            "           6       0.93      0.84      0.88        44\n",
            "           7       0.71      0.79      0.75        34\n",
            "           8       0.68      0.93      0.79        28\n",
            "           9       0.87      0.69      0.77        39\n",
            "\n",
            "    accuracy                           0.78       360\n",
            "   macro avg       0.80      0.78      0.78       360\n",
            "weighted avg       0.80      0.78      0.78       360\n",
            "\n"
          ]
        }
      ]
    }
  ]
}