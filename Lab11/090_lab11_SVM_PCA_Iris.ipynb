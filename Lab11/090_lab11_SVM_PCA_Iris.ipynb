{
  "nbformat": 4,
  "nbformat_minor": 0,
  "metadata": {
    "colab": {
      "name": "090_lab11_SVM_PCA_Iris.ipynb",
      "provenance": [],
      "collapsed_sections": [],
      "authorship_tag": "ABX9TyMJHsQn+Q4fOgTN+rc7CJtE"
    },
    "kernelspec": {
      "name": "python3",
      "display_name": "Python 3"
    },
    "language_info": {
      "name": "python"
    }
  },
  "cells": [
    {
      "cell_type": "code",
      "metadata": {
        "colab": {
          "base_uri": "https://localhost:8080/"
        },
        "id": "iuJXdK_p2atq",
        "outputId": "e1536528-fddd-4f37-b7d1-35958df7638a"
      },
      "source": [
        "%matplotlib inline\n",
        "import pandas as pd\n",
        "from sklearn import datasets\n",
        "from sklearn.decomposition import PCA\n",
        "from sklearn import svm,decomposition\n",
        "\n",
        "iris = datasets.load_iris() #loading the dataset\n",
        "iris.target_names"
      ],
      "execution_count": 9,
      "outputs": [
        {
          "output_type": "execute_result",
          "data": {
            "text/plain": [
              "array(['setosa', 'versicolor', 'virginica'], dtype='<U10')"
            ]
          },
          "metadata": {},
          "execution_count": 9
        }
      ]
    },
    {
      "cell_type": "code",
      "metadata": {
        "colab": {
          "base_uri": "https://localhost:8080/"
        },
        "id": "SuL3l4tY2gDs",
        "outputId": "a80a0f54-cbd4-4fcf-b717-39e17b4a5961"
      },
      "source": [
        "from sklearn.model_selection import train_test_split\n",
        "X_train, X_test, y_train, y_test = train_test_split(iris.data,iris.target, random_state=90)\n",
        "\n",
        "print(X_train.shape, X_test.shape)"
      ],
      "execution_count": 10,
      "outputs": [
        {
          "output_type": "stream",
          "name": "stdout",
          "text": [
            "(112, 4) (38, 4)\n"
          ]
        }
      ]
    },
    {
      "cell_type": "code",
      "metadata": {
        "colab": {
          "base_uri": "https://localhost:8080/"
        },
        "id": "SXWX9TXY2k4F",
        "outputId": "3597a143-a62e-4dfe-8ad7-bd200bb4ec43"
      },
      "source": [
        "pca = decomposition.PCA(n_components=3, whiten=True)\n",
        "pca.fit(X_train)"
      ],
      "execution_count": 11,
      "outputs": [
        {
          "output_type": "execute_result",
          "data": {
            "text/plain": [
              "PCA(copy=True, iterated_power='auto', n_components=3, random_state=None,\n",
              "    svd_solver='auto', tol=0.0, whiten=True)"
            ]
          },
          "metadata": {},
          "execution_count": 11
        }
      ]
    },
    {
      "cell_type": "code",
      "metadata": {
        "colab": {
          "base_uri": "https://localhost:8080/"
        },
        "id": "0zvrG_Fm2mIk",
        "outputId": "62e6c511-a290-48f7-9ce6-3aac076833e2"
      },
      "source": [
        "X_train_pca = pca.transform(X_train)\n",
        "X_test_pca = pca.transform(X_test)\n",
        "print(X_train_pca.shape)\n",
        "\n",
        "clf = svm.SVC(C=3., gamma=0.001)\n",
        "clf.fit(X_train_pca, y_train)"
      ],
      "execution_count": 12,
      "outputs": [
        {
          "output_type": "stream",
          "name": "stdout",
          "text": [
            "(112, 3)\n"
          ]
        },
        {
          "output_type": "execute_result",
          "data": {
            "text/plain": [
              "SVC(C=3.0, break_ties=False, cache_size=200, class_weight=None, coef0=0.0,\n",
              "    decision_function_shape='ovr', degree=3, gamma=0.001, kernel='rbf',\n",
              "    max_iter=-1, probability=False, random_state=None, shrinking=True,\n",
              "    tol=0.001, verbose=False)"
            ]
          },
          "metadata": {},
          "execution_count": 12
        }
      ]
    },
    {
      "cell_type": "code",
      "metadata": {
        "colab": {
          "base_uri": "https://localhost:8080/"
        },
        "id": "rDHhW4dy2pqU",
        "outputId": "8c3fd9fc-640e-4078-a926-610d00fcff5f"
      },
      "source": [
        "from sklearn import metrics\n",
        "y_pred = clf.predict(X_test_pca) #prediction\n",
        "\n",
        "print(metrics.classification_report(y_test, y_pred))"
      ],
      "execution_count": 13,
      "outputs": [
        {
          "output_type": "stream",
          "name": "stdout",
          "text": [
            "              precision    recall  f1-score   support\n",
            "\n",
            "           0       1.00      0.33      0.50        12\n",
            "           1       0.21      1.00      0.34         7\n",
            "           2       0.00      0.00      0.00        19\n",
            "\n",
            "    accuracy                           0.29        38\n",
            "   macro avg       0.40      0.44      0.28        38\n",
            "weighted avg       0.35      0.29      0.22        38\n",
            "\n"
          ]
        },
        {
          "output_type": "stream",
          "name": "stderr",
          "text": [
            "/usr/local/lib/python3.7/dist-packages/sklearn/metrics/_classification.py:1272: UndefinedMetricWarning: Precision and F-score are ill-defined and being set to 0.0 in labels with no predicted samples. Use `zero_division` parameter to control this behavior.\n",
            "  _warn_prf(average, modifier, msg_start, len(result))\n"
          ]
        }
      ]
    },
    {
      "cell_type": "code",
      "metadata": {
        "colab": {
          "base_uri": "https://localhost:8080/"
        },
        "id": "RNo_iSV52uL7",
        "outputId": "4bb9e71e-61ca-429e-bcbf-72045fb50bd4"
      },
      "source": [
        "from sklearn.pipeline import Pipeline\n",
        "clf = Pipeline([('pca', decomposition.PCA(n_components=3, whiten=True)), ('svm', svm.LinearSVC(C=3.0))])\n",
        "\n",
        "clf.fit(X_train, y_train)\n",
        "\n",
        "y_pred = clf.predict(X_test)\n",
        "print(metrics.confusion_matrix(y_pred, y_test))"
      ],
      "execution_count": 14,
      "outputs": [
        {
          "output_type": "stream",
          "name": "stdout",
          "text": [
            "[[11  0  0]\n",
            " [ 1  7  1]\n",
            " [ 0  0 18]]\n"
          ]
        }
      ]
    }
  ]
}