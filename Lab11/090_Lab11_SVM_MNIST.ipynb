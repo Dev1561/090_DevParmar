{
  "nbformat": 4,
  "nbformat_minor": 0,
  "metadata": {
    "colab": {
      "name": "090_Lab11_SVM_MNIST.ipynb",
      "provenance": [],
      "collapsed_sections": [],
      "authorship_tag": "ABX9TyN3c8ajZfsNuCGyRTc5gacy"
    },
    "kernelspec": {
      "name": "python3",
      "display_name": "Python 3"
    },
    "language_info": {
      "name": "python"
    }
  },
  "cells": [
    {
      "cell_type": "markdown",
      "metadata": {
        "id": "lY92O1e2yuKj"
      },
      "source": [
        "Try SVM classifier on MNIST dataset, compare the preformance of linear, polynomial and RBF kernels."
      ]
    },
    {
      "cell_type": "code",
      "metadata": {
        "id": "kTESV9o-yZh0"
      },
      "source": [
        "import sys, os\n",
        "import matplotlib.pyplot as plt\n",
        "from sklearn import svm\n",
        "from sklearn.model_selection import train_test_split\n",
        "import numpy as np"
      ],
      "execution_count": 1,
      "outputs": []
    },
    {
      "cell_type": "code",
      "metadata": {
        "id": "TRhgrTOsy-Hq"
      },
      "source": [
        "from sklearn.datasets import load_digits\n",
        "\n",
        "digits = load_digits()\n",
        "\n",
        "X_train, X_test, y_train, y_test = train_test_split(digits.data, digits.target, test_size = 0.35, train_size = 0.25 ,random_state = 90)"
      ],
      "execution_count": 2,
      "outputs": []
    },
    {
      "cell_type": "markdown",
      "metadata": {
        "id": "GRMGniCNzH5-"
      },
      "source": [
        "Linear Model"
      ]
    },
    {
      "cell_type": "code",
      "metadata": {
        "id": "1SH9PPRUzGo-"
      },
      "source": [
        "linear = svm.SVC(kernel='linear')\n",
        "linear.fit(X_train, y_train) #training\n",
        "\n",
        "# predict\n",
        "y_pred = linear.predict(X_test)"
      ],
      "execution_count": 5,
      "outputs": []
    },
    {
      "cell_type": "code",
      "metadata": {
        "colab": {
          "base_uri": "https://localhost:8080/"
        },
        "id": "GqtMXDi-zM0A",
        "outputId": "5024fd67-ca90-459b-a8f3-59056fff6063"
      },
      "source": [
        "from sklearn import metrics\n",
        "\n",
        "# accuracy\n",
        "print(\"Accuracy:\", metrics.accuracy_score(y_true=y_test, y_pred=y_pred), \"\\n\")"
      ],
      "execution_count": 6,
      "outputs": [
        {
          "output_type": "stream",
          "name": "stdout",
          "text": [
            "Accuracy: 0.9650238473767886 \n",
            "\n"
          ]
        }
      ]
    },
    {
      "cell_type": "markdown",
      "metadata": {
        "id": "Q_u1oWk-zpEz"
      },
      "source": [
        "Polynomial Model"
      ]
    },
    {
      "cell_type": "code",
      "metadata": {
        "id": "ZP0qzUN6zqV1"
      },
      "source": [
        "poly = svm.SVC(kernel='poly')\n",
        "poly.fit(X_train, y_train) #training\n",
        "\n",
        "# predict\n",
        "y_pred = poly.predict(X_test)"
      ],
      "execution_count": 7,
      "outputs": []
    },
    {
      "cell_type": "code",
      "metadata": {
        "colab": {
          "base_uri": "https://localhost:8080/"
        },
        "id": "r3io-skWz3Yf",
        "outputId": "8f8bacda-084a-41ef-9a57-9c7952150793"
      },
      "source": [
        "# accuracy\n",
        "print(\"Accuracy:\", metrics.accuracy_score(y_true=y_test, y_pred=y_pred), \"\\n\")"
      ],
      "execution_count": 8,
      "outputs": [
        {
          "output_type": "stream",
          "name": "stdout",
          "text": [
            "Accuracy: 0.9761526232114467 \n",
            "\n"
          ]
        }
      ]
    },
    {
      "cell_type": "markdown",
      "metadata": {
        "id": "kPNKtfpKz671"
      },
      "source": [
        "RBF Model"
      ]
    },
    {
      "cell_type": "code",
      "metadata": {
        "id": "lglLTWMFz8W4"
      },
      "source": [
        "rbf = svm.SVC(kernel='rbf') \n",
        "rbf.fit(X_train, y_train) #training\n",
        "\n",
        "# predict\n",
        "y_pred = rbf.predict(X_test)"
      ],
      "execution_count": 9,
      "outputs": []
    },
    {
      "cell_type": "code",
      "metadata": {
        "colab": {
          "base_uri": "https://localhost:8080/"
        },
        "id": "02ozSxoG0AQd",
        "outputId": "0ba074dc-819a-481e-d06f-c35484d07b45"
      },
      "source": [
        "#accuracy\n",
        "print(\"Accuracy:\", metrics.accuracy_score(y_true=y_test, y_pred=y_pred), \"\\n\")"
      ],
      "execution_count": 10,
      "outputs": [
        {
          "output_type": "stream",
          "name": "stdout",
          "text": [
            "Accuracy: 0.9697933227344993 \n",
            "\n"
          ]
        }
      ]
    }
  ]
}