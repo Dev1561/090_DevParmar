{
  "nbformat": 4,
  "nbformat_minor": 0,
  "metadata": {
    "colab": {
      "name": "090_Lab1_LinearAlgebraWithNumpy.ipynb",
      "provenance": [],
      "collapsed_sections": [],
      "include_colab_link": true
    },
    "kernelspec": {
      "name": "python3",
      "display_name": "Python 3"
    },
    "language_info": {
      "name": "python"
    }
  },
  "cells": [
    {
      "cell_type": "markdown",
      "metadata": {
        "id": "view-in-github",
        "colab_type": "text"
      },
      "source": [
        "<a href=\"https://colab.research.google.com/github/Dev1561/090_DevParmar/blob/main/090_Lab1_LinearAlgebraWithNumpy.ipynb\" target=\"_parent\"><img src=\"https://colab.research.google.com/assets/colab-badge.svg\" alt=\"Open In Colab\"/></a>"
      ]
    },
    {
      "cell_type": "code",
      "metadata": {
        "colab": {
          "base_uri": "https://localhost:8080/"
        },
        "id": "qWsQ1psErA7_",
        "outputId": "bcf7599d-334f-4eb9-a896-cde01e66ba8b"
      },
      "source": [
        "from google.colab import drive\n",
        "drive.mount('/content/drive')"
      ],
      "execution_count": null,
      "outputs": [
        {
          "output_type": "stream",
          "text": [
            "Mounted at /content/drive\n"
          ],
          "name": "stdout"
        }
      ]
    },
    {
      "cell_type": "code",
      "metadata": {
        "colab": {
          "base_uri": "https://localhost:8080/"
        },
        "id": "eZzmjIupuzI5",
        "outputId": "19ebf7c5-ec3f-45b8-b4c5-c0149f5b5656"
      },
      "source": [
        "import numpy as np\n",
        "matrix3x2 = np.array([[1, 2], [3, 4], [5, 6]])\n",
        "matrix2x3 = np.array([[1, 2, 4], [4, 5, 6]])\n",
        "\n",
        "print('3 x 2 matrix : \\n', matrix3x2)\n",
        "print('\\n 2 x 3 matrix : \\n', matrix2x3)"
      ],
      "execution_count": 2,
      "outputs": [
        {
          "output_type": "stream",
          "text": [
            "3 x 2 matrix : \n",
            " [[1 2]\n",
            " [3 4]\n",
            " [5 6]]\n",
            "\n",
            " 2 x 3 matrix : \n",
            " [[1 2 4]\n",
            " [4 5 6]]\n"
          ],
          "name": "stdout"
        }
      ]
    },
    {
      "cell_type": "code",
      "metadata": {
        "colab": {
          "base_uri": "https://localhost:8080/"
        },
        "id": "y_vFGpTCwqgl",
        "outputId": "3bb45aae-af41-48aa-f92c-8e33cc029fe6"
      },
      "source": [
        "random_matrix = np.random.rand(3, 4)\n",
        "print(random_matrix)"
      ],
      "execution_count": 3,
      "outputs": [
        {
          "output_type": "stream",
          "text": [
            "[[0.60834742 0.64048931 0.89248323 0.28122704]\n",
            " [0.90921388 0.98021296 0.40547882 0.06306266]\n",
            " [0.17029303 0.42867573 0.03629416 0.77591414]]\n"
          ],
          "name": "stdout"
        }
      ]
    },
    {
      "cell_type": "code",
      "metadata": {
        "colab": {
          "base_uri": "https://localhost:8080/"
        },
        "id": "aXc-DdSc1FIW",
        "outputId": "8110bec9-74e0-4cb6-aacc-55942a7bcf35"
      },
      "source": [
        "# matrix multiplication\n",
        "matmul = np.dot(matrix3x2, matrix2x3)\n",
        "print(matmul)"
      ],
      "execution_count": 4,
      "outputs": [
        {
          "output_type": "stream",
          "text": [
            "[[ 9 12 16]\n",
            " [19 26 36]\n",
            " [29 40 56]]\n"
          ],
          "name": "stdout"
        }
      ]
    },
    {
      "cell_type": "code",
      "metadata": {
        "id": "vS720pKU1jwS"
      },
      "source": [
        "# elemet wise matrix multiplication\n"
      ],
      "execution_count": null,
      "outputs": []
    }
  ]
}